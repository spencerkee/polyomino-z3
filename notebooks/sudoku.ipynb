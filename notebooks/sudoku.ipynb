{
 "cells": [
  {
   "cell_type": "markdown",
   "metadata": {},
   "source": [
    "Attempts to solve https://www.janestreet.com/puzzles/current-puzzle/\n",
    "Differences are:\n",
    "1) We use nine of the ten digits (0-9) in completing this grid instead of (1-9)\n",
    "2) We're trying to find the sudoku board with the highest possible greatest-common-divisor over the 9-digit number formed by the rows of the grid"
   ]
  },
  {
   "cell_type": "code",
   "execution_count": 15,
   "metadata": {},
   "outputs": [],
   "source": [
    "from z3 import *\n",
    "from pprint import pprint\n",
    "\n",
    "# Create integer powers of 10\n",
    "POW = [1e8, 1e7, 1e6, 1e5, 1e4, 1e3, 1e2, 1e1, 1e0]\n",
    "POW = [int(i) for i in POW]"
   ]
  },
  {
   "cell_type": "code",
   "execution_count": 16,
   "metadata": {},
   "outputs": [],
   "source": [
    "# Create an integer variable for each cell in the 9x9 sudoku grid\n",
    "X = [ [ Int(f\"x_%s_%s\" % (i+1, j+1)) for j in range(9) ] \n",
    "      for i in range(9) ]\n",
    "\n",
    "# Each cell must contain a digit (0 to 9)\n",
    "cells_c = [And(0 <= X[i][j], X[i][j] <= 9) for i in range(9) for j in range(9)]\n",
    "\n",
    "excluded_digit = Int(\"excluded\")\n",
    "# Excluded digit is between 0 and 9 inclusive\n",
    "excluded_digit_c = [And(0 <= excluded_digit, excluded_digit <= 9)]\n",
    "\n",
    "# Each cell must contain a digit (0 to 9)\n",
    "cells_c = [And(0 <= X[i][j], X[i][j] <= 9) for i in range(9) for j in range(9)]\n",
    "\n",
    "# Every digit has to be placed exactly once in each row (with the exception of the excluded digit)\n",
    "rows_c = [Distinct(X[i] + [excluded_digit]) for i in range(9)]\n",
    "\n",
    "# Every digit has to be placed exactly once in each column (with the exception of the excluded digit)\n",
    "cols_c = [Distinct([X[i][j] for i in range(9)] + [excluded_digit]) for j in range(9)]\n",
    "\n",
    "# Every digit has to be placed exactly once in each 3x3 subgrid (with the exception of the excluded digit)\n",
    "sq_c = [\n",
    "    Distinct(\n",
    "        [X[3 * i0 + i][3 * j0 + j] for i in range(3) for j in range(3)]\n",
    "        + [excluded_digit]\n",
    "    )\n",
    "    for i0 in range(3)\n",
    "    for j0 in range(3)\n",
    "]\n",
    "\n",
    "def create_number(number_var, num_list):\n",
    "    # TODO\n",
    "    num = 0\n",
    "    for ind, val in enumerate(num_list):\n",
    "        num += val * POW[ind]\n",
    "    return number_var == num\n",
    "\n",
    "# Create the divisor variable\n",
    "divisor = Int(\"divisor\")\n",
    "# Bit of demo magic to make sure we find the answer in the face of the unknown ;)\n",
    "divisor_c = [divisor == 9]\n",
    "numbers = [Int(f\"num_{i}\") for i in range(9)]\n",
    "# Each constructed number is equal to the dot product of its row\n",
    "numbers_dot_c = [create_number(numbers[ind], row) for ind, row in enumerate(X)]\n",
    "# Each number is divisible by the divisor\n",
    "numbers_div_c = [number % divisor == 0 for number in numbers]"
   ]
  },
  {
   "cell_type": "code",
   "execution_count": 17,
   "metadata": {},
   "outputs": [],
   "source": [
    "# Chain all the conditions together\n",
    "sudoku_c = (\n",
    "    excluded_digit_c + cells_c + rows_c + cols_c + sq_c + numbers_dot_c + numbers_div_c + divisor_c\n",
    ")"
   ]
  },
  {
   "cell_type": "code",
   "execution_count": 18,
   "metadata": {},
   "outputs": [
    {
     "name": "stdout",
     "output_type": "stream",
     "text": [
      "[[1, 3, 6, 4, 5, 7, 0, 2, 8],\n",
      " [0, 7, 8, 6, 2, 1, 4, 3, 5],\n",
      " [4, 2, 5, 0, 3, 8, 1, 6, 7],\n",
      " [2, 4, 0, 5, 8, 6, 3, 7, 1],\n",
      " [8, 6, 7, 3, 1, 4, 2, 5, 0],\n",
      " [3, 5, 1, 2, 7, 0, 6, 8, 4],\n",
      " [6, 1, 2, 7, 0, 5, 8, 4, 3],\n",
      " [5, 8, 3, 1, 4, 2, 7, 0, 6],\n",
      " [7, 0, 4, 8, 6, 3, 5, 1, 2]]\n",
      "136457028\n",
      "78621435\n",
      "425038167\n",
      "240586371\n",
      "867314250\n",
      "351270684\n",
      "612705843\n",
      "583142706\n",
      "704863512\n",
      "excluded_digit=9\n",
      "divisor=9\n"
     ]
    }
   ],
   "source": [
    "instance = (\n",
    "    (-1, -1, -1, -1, -1, -1, -1, 2, -1),\n",
    "    (-1, -1, -1, -1, -1, -1, -1, -1, 5),\n",
    "    (-1, 2, -1, -1, -1, -1, -1, -1, -1),\n",
    "    (-1, -1, 0, -1, -1, -1, -1, -1, -1),\n",
    "    (-1, -1, -1, -1, -1, -1, -1, -1, -1),\n",
    "    (-1, -1, -1, 2, -1, -1, -1, -1, -1),\n",
    "    (-1, -1, -1, -1, 0, -1, -1, -1, -1),\n",
    "    (-1, -1, -1, -1, -1, 2, -1, -1, -1),\n",
    "    (-1, -1, -1, -1, -1, -1, 5, -1, -1),\n",
    ")\n",
    "\n",
    "instance_c = [\n",
    "    If(instance[i][j] == -1, True, X[i][j] == instance[i][j])\n",
    "    for i in range(9)\n",
    "    for j in range(9)\n",
    "]\n",
    "\n",
    "s = Solver()\n",
    "# s = Optimize()\n",
    "s.add(sudoku_c + instance_c)\n",
    "# s.maximize(divisor)\n",
    "\n",
    "if s.check() == sat:\n",
    "    m = s.model()\n",
    "    r = [[m.evaluate(X[i][j]) for j in range(9)] for i in range(9)]\n",
    "    print_matrix(r)\n",
    "    for n in numbers:\n",
    "        print(m.evaluate(n))\n",
    "    print(f\"excluded_digit={m.evaluate(excluded_digit)}\")\n",
    "    print(f\"divisor={m.evaluate(divisor)}\")\n",
    "else:\n",
    "    print(\"failed to solve\")"
   ]
  }
 ],
 "metadata": {
  "kernelspec": {
   "display_name": "Python 3",
   "language": "python",
   "name": "python3"
  },
  "language_info": {
   "codemirror_mode": {
    "name": "ipython",
    "version": 3
   },
   "file_extension": ".py",
   "mimetype": "text/x-python",
   "name": "python",
   "nbconvert_exporter": "python",
   "pygments_lexer": "ipython3",
   "version": "3.12.8"
  }
 },
 "nbformat": 4,
 "nbformat_minor": 2
}
