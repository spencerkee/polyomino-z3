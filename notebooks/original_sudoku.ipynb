{
 "cells": [
  {
   "cell_type": "markdown",
   "metadata": {},
   "source": [
    "Adapted from https://bas.codes/posts/python-sudoku-solver-z3"
   ]
  },
  {
   "cell_type": "code",
   "execution_count": 23,
   "metadata": {},
   "outputs": [],
   "source": [
    "from pprint import pprint"
   ]
  },
  {
   "cell_type": "code",
   "execution_count": 24,
   "metadata": {},
   "outputs": [
    {
     "name": "stdout",
     "output_type": "stream",
     "text": [
      "sat\n",
      "[price = 5, quantity = 8]\n"
     ]
    }
   ],
   "source": [
    "from z3 import *\n",
    "\n",
    "\"\"\"\n",
    "Apples are sold in packs of 4.\n",
    "The price of a pack is $20.\n",
    "If we have $40 in our pocket, how many packs can we buy?\n",
    "\"\"\"\n",
    "\n",
    "price = Int(\"price\")\n",
    "quantity = Int(\"quantity\")\n",
    "\n",
    "s = Solver()\n",
    "s.add(4 * price == 20)\n",
    "s.add(price * quantity == 40)\n",
    "print(s.check())\n",
    "print(s.model())"
   ]
  },
  {
   "cell_type": "code",
   "execution_count": 25,
   "metadata": {},
   "outputs": [
    {
     "name": "stdout",
     "output_type": "stream",
     "text": [
      "[[x_1_1, x_1_2, x_1_3, x_1_4, x_1_5, x_1_6, x_1_7, x_1_8, x_1_9],\n",
      " [x_2_1, x_2_2, x_2_3, x_2_4, x_2_5, x_2_6, x_2_7, x_2_8, x_2_9],\n",
      " [x_3_1, x_3_2, x_3_3, x_3_4, x_3_5, x_3_6, x_3_7, x_3_8, x_3_9],\n",
      " [x_4_1, x_4_2, x_4_3, x_4_4, x_4_5, x_4_6, x_4_7, x_4_8, x_4_9],\n",
      " [x_5_1, x_5_2, x_5_3, x_5_4, x_5_5, x_5_6, x_5_7, x_5_8, x_5_9],\n",
      " [x_6_1, x_6_2, x_6_3, x_6_4, x_6_5, x_6_6, x_6_7, x_6_8, x_6_9],\n",
      " [x_7_1, x_7_2, x_7_3, x_7_4, x_7_5, x_7_6, x_7_7, x_7_8, x_7_9],\n",
      " [x_8_1, x_8_2, x_8_3, x_8_4, x_8_5, x_8_6, x_8_7, x_8_8, x_8_9],\n",
      " [x_9_1, x_9_2, x_9_3, x_9_4, x_9_5, x_9_6, x_9_7, x_9_8, x_9_9]]\n"
     ]
    }
   ],
   "source": [
    "# Create an integer variable for each cell in the 9x9 sudoku grid\n",
    "X = [ [ Int(f\"x_%s_%s\" % (i+1, j+1)) for j in range(9) ] \n",
    "      for i in range(9) ]\n",
    "pprint(X)"
   ]
  },
  {
   "cell_type": "code",
   "execution_count": 26,
   "metadata": {},
   "outputs": [
    {
     "name": "stdout",
     "output_type": "stream",
     "text": [
      "[And(x_1_1 >= 1, x_1_1 <= 9),\n",
      " And(x_1_2 >= 1, x_1_2 <= 9),\n",
      " And(x_1_3 >= 1, x_1_3 <= 9),\n",
      " And(x_1_4 >= 1, x_1_4 <= 9),\n",
      " And(x_1_5 >= 1, x_1_5 <= 9),\n",
      " And(x_1_6 >= 1, x_1_6 <= 9),\n",
      " And(x_1_7 >= 1, x_1_7 <= 9),\n",
      " And(x_1_8 >= 1, x_1_8 <= 9),\n",
      " And(x_1_9 >= 1, x_1_9 <= 9),\n",
      " And(x_2_1 >= 1, x_2_1 <= 9),\n",
      " And(x_2_2 >= 1, x_2_2 <= 9),\n",
      " And(x_2_3 >= 1, x_2_3 <= 9),\n",
      " And(x_2_4 >= 1, x_2_4 <= 9),\n",
      " And(x_2_5 >= 1, x_2_5 <= 9),\n",
      " And(x_2_6 >= 1, x_2_6 <= 9),\n",
      " And(x_2_7 >= 1, x_2_7 <= 9),\n",
      " And(x_2_8 >= 1, x_2_8 <= 9),\n",
      " And(x_2_9 >= 1, x_2_9 <= 9),\n",
      " And(x_3_1 >= 1, x_3_1 <= 9),\n",
      " And(x_3_2 >= 1, x_3_2 <= 9),\n",
      " And(x_3_3 >= 1, x_3_3 <= 9),\n",
      " And(x_3_4 >= 1, x_3_4 <= 9),\n",
      " And(x_3_5 >= 1, x_3_5 <= 9),\n",
      " And(x_3_6 >= 1, x_3_6 <= 9),\n",
      " And(x_3_7 >= 1, x_3_7 <= 9),\n",
      " And(x_3_8 >= 1, x_3_8 <= 9),\n",
      " And(x_3_9 >= 1, x_3_9 <= 9),\n",
      " And(x_4_1 >= 1, x_4_1 <= 9),\n",
      " And(x_4_2 >= 1, x_4_2 <= 9),\n",
      " And(x_4_3 >= 1, x_4_3 <= 9),\n",
      " And(x_4_4 >= 1, x_4_4 <= 9),\n",
      " And(x_4_5 >= 1, x_4_5 <= 9),\n",
      " And(x_4_6 >= 1, x_4_6 <= 9),\n",
      " And(x_4_7 >= 1, x_4_7 <= 9),\n",
      " And(x_4_8 >= 1, x_4_8 <= 9),\n",
      " And(x_4_9 >= 1, x_4_9 <= 9),\n",
      " And(x_5_1 >= 1, x_5_1 <= 9),\n",
      " And(x_5_2 >= 1, x_5_2 <= 9),\n",
      " And(x_5_3 >= 1, x_5_3 <= 9),\n",
      " And(x_5_4 >= 1, x_5_4 <= 9),\n",
      " And(x_5_5 >= 1, x_5_5 <= 9),\n",
      " And(x_5_6 >= 1, x_5_6 <= 9),\n",
      " And(x_5_7 >= 1, x_5_7 <= 9),\n",
      " And(x_5_8 >= 1, x_5_8 <= 9),\n",
      " And(x_5_9 >= 1, x_5_9 <= 9),\n",
      " And(x_6_1 >= 1, x_6_1 <= 9),\n",
      " And(x_6_2 >= 1, x_6_2 <= 9),\n",
      " And(x_6_3 >= 1, x_6_3 <= 9),\n",
      " And(x_6_4 >= 1, x_6_4 <= 9),\n",
      " And(x_6_5 >= 1, x_6_5 <= 9),\n",
      " And(x_6_6 >= 1, x_6_6 <= 9),\n",
      " And(x_6_7 >= 1, x_6_7 <= 9),\n",
      " And(x_6_8 >= 1, x_6_8 <= 9),\n",
      " And(x_6_9 >= 1, x_6_9 <= 9),\n",
      " And(x_7_1 >= 1, x_7_1 <= 9),\n",
      " And(x_7_2 >= 1, x_7_2 <= 9),\n",
      " And(x_7_3 >= 1, x_7_3 <= 9),\n",
      " And(x_7_4 >= 1, x_7_4 <= 9),\n",
      " And(x_7_5 >= 1, x_7_5 <= 9),\n",
      " And(x_7_6 >= 1, x_7_6 <= 9),\n",
      " And(x_7_7 >= 1, x_7_7 <= 9),\n",
      " And(x_7_8 >= 1, x_7_8 <= 9),\n",
      " And(x_7_9 >= 1, x_7_9 <= 9),\n",
      " And(x_8_1 >= 1, x_8_1 <= 9),\n",
      " And(x_8_2 >= 1, x_8_2 <= 9),\n",
      " And(x_8_3 >= 1, x_8_3 <= 9),\n",
      " And(x_8_4 >= 1, x_8_4 <= 9),\n",
      " And(x_8_5 >= 1, x_8_5 <= 9),\n",
      " And(x_8_6 >= 1, x_8_6 <= 9),\n",
      " And(x_8_7 >= 1, x_8_7 <= 9),\n",
      " And(x_8_8 >= 1, x_8_8 <= 9),\n",
      " And(x_8_9 >= 1, x_8_9 <= 9),\n",
      " And(x_9_1 >= 1, x_9_1 <= 9),\n",
      " And(x_9_2 >= 1, x_9_2 <= 9),\n",
      " And(x_9_3 >= 1, x_9_3 <= 9),\n",
      " And(x_9_4 >= 1, x_9_4 <= 9),\n",
      " And(x_9_5 >= 1, x_9_5 <= 9),\n",
      " And(x_9_6 >= 1, x_9_6 <= 9),\n",
      " And(x_9_7 >= 1, x_9_7 <= 9),\n",
      " And(x_9_8 >= 1, x_9_8 <= 9),\n",
      " And(x_9_9 >= 1, x_9_9 <= 9)]\n"
     ]
    }
   ],
   "source": [
    "# Each cell must contain a digit (1 to 9)\n",
    "cells_c  = [ And(1 <= X[i][j], X[i][j] <= 9) \n",
    "             for i in range(9) for j in range(9) ]\n",
    "pprint(cells_c)"
   ]
  },
  {
   "cell_type": "code",
   "execution_count": 27,
   "metadata": {},
   "outputs": [],
   "source": [
    "# Every digit has to be placed exactly once in each row\n",
    "rows_c   = [ Distinct(X[i]) for i in range(9) ]\n",
    "\n",
    "# Every digit has to be placed exactly once in each column\n",
    "cols_c   = [ Distinct([ X[i][j] for i in range(9) ]) \n",
    "             for j in range(9) ]\n",
    "\n",
    "# Every digit has to be placed exactly once in each 3x3 subgrid\n",
    "sq_c = [ Distinct([ X[3*i0 + i][3*j0 + j] \n",
    "                    for i in range(3) for j in range(3) ]) \n",
    "         for i0 in range(3) for j0 in range(3) ]"
   ]
  },
  {
   "cell_type": "code",
   "execution_count": 28,
   "metadata": {},
   "outputs": [],
   "source": [
    "# Chain all the conditions together\n",
    "sudoku_c = cells_c + rows_c + cols_c + sq_c"
   ]
  },
  {
   "cell_type": "code",
   "execution_count": 29,
   "metadata": {},
   "outputs": [],
   "source": [
    "# Load our inital values\n",
    "instance = ((5,3,0,0,7,0,0,0,0),\n",
    "            (6,0,0,1,9,5,0,0,0),\n",
    "            (0,9,8,0,0,0,0,6,0),\n",
    "            (8,0,0,0,6,0,0,0,3),\n",
    "            (4,0,0,8,0,3,0,0,1),\n",
    "            (7,0,0,0,2,0,0,0,6),\n",
    "            (0,6,0,0,0,0,2,8,0),\n",
    "            (0,0,0,4,1,9,0,0,5),\n",
    "            (0,0,0,0,8,0,0,7,9))\n",
    "\n",
    "instance_c = [ If(instance[i][j] == 0, \n",
    "                  True, \n",
    "                  X[i][j] == instance[i][j]) \n",
    "               for i in range(9) for j in range(9) ]"
   ]
  },
  {
   "cell_type": "code",
   "execution_count": 30,
   "metadata": {},
   "outputs": [
    {
     "name": "stdout",
     "output_type": "stream",
     "text": [
      "[[5, 3, 4, 6, 7, 8, 9, 1, 2],\n",
      " [6, 7, 2, 1, 9, 5, 3, 4, 8],\n",
      " [1, 9, 8, 3, 4, 2, 5, 6, 7],\n",
      " [8, 5, 9, 7, 6, 1, 4, 2, 3],\n",
      " [4, 2, 6, 8, 5, 3, 7, 9, 1],\n",
      " [7, 1, 3, 9, 2, 4, 8, 5, 6],\n",
      " [9, 6, 1, 5, 3, 7, 2, 8, 4],\n",
      " [2, 8, 7, 4, 1, 9, 6, 3, 5],\n",
      " [3, 4, 5, 2, 8, 6, 1, 7, 9]]\n"
     ]
    }
   ],
   "source": [
    "# Create a solver object and ask z3 to solve the problem\n",
    "s = Solver()                                            # (1)\n",
    "s.add(sudoku_c + instance_c)                            # (2)\n",
    "if s.check() == sat:                                    # (3)\n",
    "    m = s.model()                                       # (4)\n",
    "    r = [ [ m.evaluate(X[i][j]) for j in range(9) ]     # (5)\n",
    "          for i in range(9) ]\n",
    "    print_matrix(r)                                     # (6)\n",
    "else:\n",
    "    print(\"failed to solve\")                            # (7)"
   ]
  }
 ],
 "metadata": {
  "kernelspec": {
   "display_name": "Python 3",
   "language": "python",
   "name": "python3"
  },
  "language_info": {
   "codemirror_mode": {
    "name": "ipython",
    "version": 3
   },
   "file_extension": ".py",
   "mimetype": "text/x-python",
   "name": "python",
   "nbconvert_exporter": "python",
   "pygments_lexer": "ipython3",
   "version": "3.12.8"
  }
 },
 "nbformat": 4,
 "nbformat_minor": 2
}
